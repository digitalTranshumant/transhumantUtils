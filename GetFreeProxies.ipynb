{
 "cells": [
  {
   "cell_type": "markdown",
   "metadata": {},
   "source": [
    "# Get updated list of free proxies"
   ]
  },
  {
   "cell_type": "code",
   "execution_count": 3,
   "metadata": {},
   "outputs": [],
   "source": [
    "#Code by Diego Saez\n",
    "#Forked from https://www.scrapehero.com/how-to-rotate-proxies-and-ip-addresses-using-python-3/\n",
    "import requests\n",
    "import pandas as pd\n",
    "def getFreeProxies(transparent=True):\n",
    "    url = 'https://free-proxy-list.net/'\n",
    "    response = requests.get(url)\n",
    "    tmp = pd.read_html(response.text)[0]\n",
    "    output = {'http':[],'https':[]}\n",
    "    tmp.dropna(inplace=True)\n",
    "    if transparent:\n",
    "        tmp = tmp[tmp.Anonymity == 'transparent']\n",
    "    for i,proxy in tmp.iterrows():\n",
    "        if proxy['Https'] == 'no':\n",
    "            output['http'].append(proxy['IP Address']+':'+str(int(proxy['Port'])))\n",
    "        else:\n",
    "            output['https'].append(str(proxy['IP Address'])+':'+str(int(proxy['Port'])))\n",
    "    return output"
   ]
  },
  {
   "cell_type": "code",
   "execution_count": 27,
   "metadata": {},
   "outputs": [
    {
     "data": {
      "text/plain": [
       "{'http': ['195.211.230.31:8080',\n",
       "  '177.47.236.38:53281',\n",
       "  '207.154.245.217:3128',\n",
       "  '210.16.85.50:53281',\n",
       "  '103.12.160.200:53281',\n",
       "  '84.241.31.107:8080',\n",
       "  '189.126.76.32:20183',\n",
       "  '179.179.99.184:20183',\n",
       "  '196.202.228.132:8080',\n",
       "  '45.7.132.109:8080',\n",
       "  '114.7.2.130:53281',\n",
       "  '81.215.201.221:8080',\n",
       "  '179.36.60.168:8080',\n",
       "  '183.88.17.190:8080',\n",
       "  '213.32.14.69:1080',\n",
       "  '201.76.122.164:20183',\n",
       "  '187.86.72.139:8080',\n",
       "  '183.89.9.148:8080',\n",
       "  '45.112.125.43:8080',\n",
       "  '138.122.30.14:53281',\n",
       "  '81.29.253.228:53281',\n",
       "  '95.91.51.58:8080',\n",
       "  '177.74.126.222:53281',\n",
       "  '186.64.122.222:8080',\n",
       "  '139.130.200.178:3128',\n",
       "  '2.90.236.206:8080',\n",
       "  '95.0.219.101:8080',\n",
       "  '194.50.12.117:8080',\n",
       "  '123.255.207.242:53281',\n",
       "  '77.78.40.102:53281',\n",
       "  '109.207.49.58:8080',\n",
       "  '103.69.220.21:8080',\n",
       "  '45.70.7.227:8080',\n",
       "  '185.83.185.166:53281',\n",
       "  '177.190.70.84:53281',\n",
       "  '82.215.184.186:41258',\n",
       "  '220.142.201.2:80',\n",
       "  '83.5.115.42:8080',\n",
       "  '167.99.12.240:8080',\n",
       "  '189.198.41.10:8080',\n",
       "  '105.27.203.38:8080',\n",
       "  '5.160.63.235:8080',\n",
       "  '92.111.247.202:8080',\n",
       "  '94.41.8.56:8080',\n",
       "  '187.111.208.132:20183',\n",
       "  '104.143.41.87:1080',\n",
       "  '45.230.174.10:8080',\n",
       "  '206.189.177.78:80',\n",
       "  '36.82.130.68:8080',\n",
       "  '187.73.224.70:8080',\n",
       "  '75.73.213.162:8080',\n",
       "  '36.85.193.18:80',\n",
       "  '202.79.21.49:53281',\n",
       "  '41.50.50.184:8080',\n",
       "  '124.120.19.71:8888',\n",
       "  '179.222.74.253:3130',\n",
       "  '188.6.216.87:8080',\n",
       "  '195.88.91.193:41258',\n",
       "  '117.206.151.41:8080',\n",
       "  '94.21.48.62:8080',\n",
       "  '36.81.89.153:53281',\n",
       "  '36.88.43.34:8080',\n",
       "  '36.68.129.229:8080',\n",
       "  '77.51.135.254:8080',\n",
       "  '190.6.34.130:8080',\n",
       "  '186.214.134.234:8080',\n",
       "  '200.196.43.161:20183',\n",
       "  '1.34.184.221:3128',\n",
       "  '183.88.137.107:8080',\n",
       "  '182.48.78.122:53281',\n",
       "  '201.4.131.184:8080',\n",
       "  '212.237.29.185:80',\n",
       "  '201.9.172.196:8080',\n",
       "  '36.79.50.102:8080',\n",
       "  '64.52.86.86:8080',\n",
       "  '187.85.170.157:3128',\n",
       "  '43.239.206.190:8080',\n",
       "  '211.117.85.229:3128',\n",
       "  '103.203.173.149:21776',\n",
       "  '190.202.130.101:8080',\n",
       "  '103.253.107.2:8080',\n",
       "  '120.28.117.162:8888',\n",
       "  '37.221.253.128:53281',\n",
       "  '213.194.68.86:21231',\n",
       "  '103.100.96.174:53281',\n",
       "  '176.105.215.220:3128',\n",
       "  '91.121.36.183:8080',\n",
       "  '206.189.0.103:3128',\n",
       "  '181.112.157.125:8080',\n",
       "  '91.106.187.149:8080',\n",
       "  '31.135.97.31:21231',\n",
       "  '85.248.36.17:8088',\n",
       "  '87.198.58.4:8080',\n",
       "  '103.47.95.193:21231',\n",
       "  '91.67.204.53:80',\n",
       "  '213.6.229.130:21231',\n",
       "  '42.191.47.52:8080',\n",
       "  '185.141.39.41:53281',\n",
       "  '185.143.139.253:53281',\n",
       "  '31.169.69.25:8080',\n",
       "  '45.127.123.161:8080',\n",
       "  '178.71.103.198:44331',\n",
       "  '207.89.91.217:8080',\n",
       "  '89.163.209.132:8080',\n",
       "  '201.54.5.117:3128',\n",
       "  '103.41.34.245:8080',\n",
       "  '103.59.214.242:8080'],\n",
       " 'https': []}"
      ]
     },
     "execution_count": 27,
     "metadata": {},
     "output_type": "execute_result"
    }
   ],
   "source": [
    "getFreeProxies()"
   ]
  },
  {
   "cell_type": "markdown",
   "metadata": {},
   "source": [
    "## Test "
   ]
  },
  {
   "cell_type": "code",
   "execution_count": 19,
   "metadata": {},
   "outputs": [
    {
     "name": "stdout",
     "output_type": "stream",
     "text": [
      "Request #1\n",
      "failed\n",
      "Request #2\n",
      "failed\n",
      "Request #3\n",
      "{'origin': '35.233.225.185'}\n",
      "Request #4\n",
      "{'origin': '193.107.25.154'}\n",
      "Request #5\n",
      "{'origin': '146.120.111.225'}\n",
      "Request #6\n",
      "{'origin': '128.68.31.33'}\n",
      "Request #7\n",
      "{'origin': '140.227.58.96'}\n",
      "Request #8\n",
      "failed\n",
      "Request #9\n",
      "{'origin': '146.120.111.225'}\n",
      "Request #10\n",
      "failed\n"
     ]
    }
   ],
   "source": [
    "from random import choice\n",
    "\n",
    "proxies = getFreeProxies(transparent=False)['https'] #trying with http proxies, \n",
    "\n",
    "url = 'https://httpbin.org/ip'\n",
    "for i in range(1,11):\n",
    "    #Get a proxy from the pool\n",
    "    proxy = choice(proxies) #trying with http proxies, \n",
    "    print(\"Request #%d\"%i)\n",
    "    try:\n",
    "        response = requests.get(url,proxies={\"https\": proxy},timeout=5)\n",
    "        print(response.json())\n",
    "    except:\n",
    "        print(\"failed\")\n",
    "\n"
   ]
  },
  {
   "cell_type": "code",
   "execution_count": null,
   "metadata": {},
   "outputs": [],
   "source": []
  }
 ],
 "metadata": {
  "kernelspec": {
   "display_name": "Python 3",
   "language": "python",
   "name": "python3"
  },
  "language_info": {
   "codemirror_mode": {
    "name": "ipython",
    "version": 3
   },
   "file_extension": ".py",
   "mimetype": "text/x-python",
   "name": "python",
   "nbconvert_exporter": "python",
   "pygments_lexer": "ipython3",
   "version": "3.6.3"
  }
 },
 "nbformat": 4,
 "nbformat_minor": 2
}
